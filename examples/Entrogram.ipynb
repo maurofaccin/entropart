{
 "cells": [
  {
   "cell_type": "code",
   "execution_count": 1,
   "metadata": {},
   "outputs": [],
   "source": [
    "import networkx as nx\n",
    "import entropart as ep\n",
    "from matplotlib import pyplot as plt\n",
    "%matplotlib inline\n",
    "%autoreload 2"
   ]
  },
  {
   "cell_type": "markdown",
   "metadata": {},
   "source": [
    "# How to compute an entrogram\n",
    "\n",
    "Tips:\n",
    "- Use a `nx.Graph()` or a `nx.DiGraph()`.\n",
    "- The edge weights should be saved in the edge data `weight`.\n",
    "- Do not use high values for depth (the number of bars in the entrogram) otherwise the computation time will explode (yes, you need to compute the probability of each path of lenght `depth + 1`)\n"
   ]
  },
  {
   "cell_type": "code",
   "execution_count": 3,
   "metadata": {},
   "outputs": [
    {
     "name": "stdout",
     "output_type": "stream",
     "text": [
      "[0.03121669 0.00152005 0.00047187 0.00011017]\n"
     ]
    }
   ],
   "source": [
    "ndepth=4\n",
    "karate = nx.karate_club_graph()\n",
    "part = {n[0]: int(n[1] == \"Mr. Hi\") for n in karate.nodes.data(\"club\")}\n",
    "H_ks, entrogram = ep.entrogram(\n",
    "    karate,\n",
    "    part,\n",
    "    depth=ndepth\n",
    ")\n",
    "print(entrogram)"
   ]
  },
  {
   "cell_type": "markdown",
   "metadata": {},
   "source": [
    "## Entropy rate"
   ]
  },
  {
   "cell_type": "code",
   "execution_count": 4,
   "metadata": {},
   "outputs": [
    {
     "name": "stdout",
     "output_type": "stream",
     "text": [
      "0.555526545664867\n",
      "4\n"
     ]
    }
   ],
   "source": [
    "print(H_ks)\n",
    "print(len(entrogram))"
   ]
  },
  {
   "cell_type": "markdown",
   "metadata": {},
   "source": [
    "## Entrogram"
   ]
  },
  {
   "cell_type": "code",
   "execution_count": 5,
   "metadata": {},
   "outputs": [
    {
     "data": {
      "image/png": "[encoded data removed]",
      "text/plain": [
       "<Figure size 432x288 with 1 Axes>"
      ]
     },
     "metadata": {
      "needs_background": "light"
     },
     "output_type": "display_data"
    }
   ],
   "source": [
    "plt.bar(range(ndepth), entrogram)\n",
    "plt.xticks(range(ndepth), [r'$I_{}$'.format(i) for i in range(ndepth)])\n",
    "plt.semilogy()\n",
    "plt.ylim(1e-4, 1)\n",
    "plt.show()"
   ]
  },
  {
   "cell_type": "code",
   "execution_count": 9,
   "metadata": {},
   "outputs": [
    {
     "name": "stderr",
     "output_type": "stream",
     "text": [
      "2018-09-14 16:56:42,001 || Optimization with 10 parts, alpha 0.0, beta 1000, probNorm 1\n",
      "100%|██████████| 10000/10000 [00:04<00:00, 2339.53it/s]\n",
      "2018-09-14 16:56:46,279 || good 72, not so good 28, best 54\n",
      "2018-09-14 16:56:46,284 || 10 -- 0727556788667799579297914418882133 \n",
      "2018-09-14 16:56:46,284 ||    -- 1.4055681026245068\n",
      "100%|██████████| 10000/10000 [00:03<00:00, 2733.88it/s]\n",
      "2018-09-14 16:56:49,961 || good 10, not so good 10, best 0\n",
      "2018-09-14 16:56:49,966 || 9 -- 0626555677556688568286814417772133 \n",
      "2018-09-14 16:56:49,966 ||    -- 1.3645084130589762\n",
      "100%|██████████| 10000/10000 [00:03<00:00, 2508.92it/s]\n",
      "2018-09-14 16:56:53,968 || good 14, not so good 13, best 1\n",
      "2018-09-14 16:56:53,974 || 8 -- 0525444566445577457275711116612133 \n",
      "2018-09-14 16:56:53,974 ||    -- 1.2855215216786169\n",
      "100%|██████████| 10000/10000 [00:03<00:00, 2538.64it/s]\n",
      "2018-09-14 16:56:57,927 || good 20, not so good 19, best 2\n",
      "2018-09-14 16:56:57,933 || 7 -- 0525444566445566456265613116612133 \n",
      "2018-09-14 16:56:57,933 ||    -- 1.1669602193633937\n",
      "100%|██████████| 10000/10000 [00:03<00:00, 2840.48it/s]\n",
      "2018-09-14 16:57:01,465 || good 21, not so good 17, best 5\n",
      "2018-09-14 16:57:01,469 || 6 -- 0525444511445511451215133331312133 \n",
      "2018-09-14 16:57:01,470 ||    -- 1.0769954904405363\n",
      "100%|██████████| 10000/10000 [00:02<00:00, 4236.98it/s]\n",
      "2018-09-14 16:57:03,837 || good 3, not so good 0, best 3\n",
      "2018-09-14 16:57:03,841 || 5 -- 0404333411344411341414122221212122 \n",
      "2018-09-14 16:57:03,842 ||    -- 0.9567363824080579\n",
      "100%|██████████| 10000/10000 [00:02<00:00, 4406.75it/s]\n",
      "2018-09-14 16:57:06,117 || good 0, not so good 0, best 0\n",
      "2018-09-14 16:57:06,121 || 4 -- 0000333011300011301010122221212122 \n",
      "2018-09-14 16:57:06,122 ||    -- 0.7776770253623977\n",
      "100%|██████████| 10000/10000 [00:02<00:00, 3653.39it/s]\n",
      "2018-09-14 16:57:08,863 || good 13, not so good 12, best 1\n",
      "2018-09-14 16:57:08,869 || 3 -- 0000222010200011201010111111111111 \n",
      "2018-09-14 16:57:08,870 ||    -- 0.6228425811414566\n",
      "100%|██████████| 10000/10000 [00:02<00:00, 3566.76it/s]\n",
      "2018-09-14 16:57:11,677 || good 59, not so good 60, best 0\n",
      "2018-09-14 16:57:11,683 || 2 -- 0000000010000011001010111111111111 \n",
      "2018-09-14 16:57:11,683 ||    -- 0.4475048856748889\n"
     ]
    }
   ],
   "source": [
    "ep.log.setLevel('INFO')\n",
    "bps = ep.best_partition(karate, kmax=10, alpha=0.0, compute_steady=True, probNorm=1, tsteps=10000, beta=1000)"
   ]
  },
  {
   "cell_type": "code",
   "execution_count": 10,
   "metadata": {},
   "outputs": [
    {
     "name": "stdout",
     "output_type": "stream",
     "text": [
      "{10: {0: 0, 1: 7, 2: 2, 3: 7, 4: 5, 5: 5, 6: 6, 7: 7, 8: 8, 9: 8, 10: 6, 11: 6, 12: 7, 13: 7, 14: 9, 15: 9, 16: 5, 17: 7, 18: 9, 19: 2, 20: 9, 21: 7, 22: 9, 23: 1, 24: 4, 25: 4, 26: 1, 27: 8, 28: 8, 29: 8, 30: 2, 31: 1, 32: 3, 33: 3}, 9: {0: 0, 1: 6, 2: 2, 3: 6, 4: 5, 5: 5, 6: 5, 7: 6, 8: 7, 9: 7, 10: 5, 11: 5, 12: 6, 13: 6, 14: 8, 15: 8, 16: 5, 17: 6, 18: 8, 19: 2, 20: 8, 21: 6, 22: 8, 23: 1, 24: 4, 25: 4, 26: 1, 27: 7, 28: 7, 29: 7, 30: 2, 31: 1, 32: 3, 33: 3}, 8: {0: 0, 1: 5, 2: 2, 3: 5, 4: 4, 5: 4, 6: 4, 7: 5, 8: 6, 9: 6, 10: 4, 11: 4, 12: 5, 13: 5, 14: 7, 15: 7, 16: 4, 17: 5, 18: 7, 19: 2, 20: 7, 21: 5, 22: 7, 23: 1, 24: 1, 25: 1, 26: 1, 27: 6, 28: 6, 29: 1, 30: 2, 31: 1, 32: 3, 33: 3}, 7: {0: 0, 1: 5, 2: 2, 3: 5, 4: 4, 5: 4, 6: 4, 7: 5, 8: 6, 9: 6, 10: 4, 11: 4, 12: 5, 13: 5, 14: 6, 15: 6, 16: 4, 17: 5, 18: 6, 19: 2, 20: 6, 21: 5, 22: 6, 23: 1, 24: 3, 25: 1, 26: 1, 27: 6, 28: 6, 29: 1, 30: 2, 31: 1, 32: 3, 33: 3}, 6: {0: 0, 1: 5, 2: 2, 3: 5, 4: 4, 5: 4, 6: 4, 7: 5, 8: 1, 9: 1, 10: 4, 11: 4, 12: 5, 13: 5, 14: 1, 15: 1, 16: 4, 17: 5, 18: 1, 19: 2, 20: 1, 21: 5, 22: 1, 23: 3, 24: 3, 25: 3, 26: 3, 27: 1, 28: 3, 29: 1, 30: 2, 31: 1, 32: 3, 33: 3}, 5: {0: 0, 1: 4, 2: 0, 3: 4, 4: 3, 5: 3, 6: 3, 7: 4, 8: 1, 9: 1, 10: 3, 11: 4, 12: 4, 13: 4, 14: 1, 15: 1, 16: 3, 17: 4, 18: 1, 19: 4, 20: 1, 21: 4, 22: 1, 23: 2, 24: 2, 25: 2, 26: 2, 27: 1, 28: 2, 29: 1, 30: 2, 31: 1, 32: 2, 33: 2}, 4: {0: 0, 1: 0, 2: 0, 3: 0, 4: 3, 5: 3, 6: 3, 7: 0, 8: 1, 9: 1, 10: 3, 11: 0, 12: 0, 13: 0, 14: 1, 15: 1, 16: 3, 17: 0, 18: 1, 19: 0, 20: 1, 21: 0, 22: 1, 23: 2, 24: 2, 25: 2, 26: 2, 27: 1, 28: 2, 29: 1, 30: 2, 31: 1, 32: 2, 33: 2}, 3: {0: 0, 1: 0, 2: 0, 3: 0, 4: 2, 5: 2, 6: 2, 7: 0, 8: 1, 9: 0, 10: 2, 11: 0, 12: 0, 13: 0, 14: 1, 15: 1, 16: 2, 17: 0, 18: 1, 19: 0, 20: 1, 21: 0, 22: 1, 23: 1, 24: 1, 25: 1, 26: 1, 27: 1, 28: 1, 29: 1, 30: 1, 31: 1, 32: 1, 33: 1}, 2: {0: 0, 1: 0, 2: 0, 3: 0, 4: 0, 5: 0, 6: 0, 7: 0, 8: 1, 9: 0, 10: 0, 11: 0, 12: 0, 13: 0, 14: 1, 15: 1, 16: 0, 17: 0, 18: 1, 19: 0, 20: 1, 21: 0, 22: 1, 23: 1, 24: 1, 25: 1, 26: 1, 27: 1, 28: 1, 29: 1, 30: 1, 31: 1, 32: 1, 33: 1}}\n"
     ]
    }
   ],
   "source": [
    "print(bps)"
   ]
  },
  {
   "cell_type": "code",
   "execution_count": 11,
   "metadata": {},
   "outputs": [
    {
     "data": {
      "text/plain": [
       "0.4475048856748889"
      ]
     },
     "execution_count": 11,
     "metadata": {},
     "output_type": "execute_result"
    }
   ],
   "source": [
    "ep.utils.value(ep.PGraph(karate, init_part=bps[2]), alpha=0.0)"
   ]
  },
  {
   "cell_type": "code",
   "execution_count": null,
   "metadata": {},
   "outputs": [],
   "source": []
  }
 ],
 "metadata": {
  "kernelspec": {
   "display_name": "Python 3",
   "language": "python",
   "name": "python3"
  },
  "language_info": {
   "codemirror_mode": {
    "name": "ipython",
    "version": 3
   },
   "file_extension": ".py",
   "mimetype": "text/x-python",
   "name": "python",
   "nbconvert_exporter": "python",
   "pygments_lexer": "ipython3",
   "version": "3.7.0"
  }
 },
 "nbformat": 4,
 "nbformat_minor": 2
}
